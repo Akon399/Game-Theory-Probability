{
 "cells": [
  {
   "cell_type": "code",
   "execution_count": 2,
   "id": "bfe10f49",
   "metadata": {},
   "outputs": [],
   "source": [
    "# Lecture 61, notes by Akhona Njeje.\n",
    "# Date 10 Jan 2023.\n",
    "# Monte carlo simulation modells.\n",
    "# Application in Poker & Game Theory.\n",
    "\n",
    "\n",
    "\n",
    "import random as ra\n",
    "import pylab as py"
   ]
  },
  {
   "cell_type": "code",
   "execution_count": 8,
   "id": "c4bf3761",
   "metadata": {},
   "outputs": [
    {
     "data": {
      "text/plain": [
       "Text(0.5, 0, 'Number of occurences')"
      ]
     },
     "execution_count": 8,
     "metadata": {},
     "output_type": "execute_result"
    },
    {
     "data": {
      "image/png": "[encoded data removed]",
      "text/plain": [
       "<Figure size 432x288 with 1 Axes>"
      ]
     },
     "metadata": {
      "needs_background": "light"
     },
     "output_type": "display_data"
    }
   ],
   "source": [
    "values = []\n",
    "for i in range(1000):\n",
    "    num1 = ra.choice(range(0, 151))\n",
    "    num2 = ra.choice(range(0, 151))\n",
    "    values.append(num1 + num2)\n",
    "\n",
    "py.hist(values, bins = 25)\n",
    "py.xlabel('Number of occurences')"
   ]
  },
  {
   "cell_type": "code",
   "execution_count": 9,
   "id": "661fa69b",
   "metadata": {},
   "outputs": [],
   "source": [
    "# Game 1 : Coin flip.\n",
    "\n",
    "def var(x):\n",
    "    mean = sum(x)/len(x)\n",
    "    tot = 0.0\n",
    "    for i in x:\n",
    "        tot += (i - mean)**2\n",
    "    return tot/len(x)\n",
    "\n",
    "def stdD(x):\n",
    "    return var(x)**0.5"
   ]
  },
  {
   "cell_type": "code",
   "execution_count": 15,
   "id": "d8c599e0",
   "metadata": {},
   "outputs": [],
   "source": [
    "def flip(numFlips):\n",
    "    heads = 0\n",
    "    for k in range(numFlips):\n",
    "        if ra.choice(('H', 'T')) == 'H':\n",
    "            heads += 1\n",
    "            return heads/float(numFlips)"
   ]
  },
  {
   "cell_type": "code",
   "execution_count": 27,
   "id": "36e7564b",
   "metadata": {},
   "outputs": [],
   "source": [
    "def flipSim(numFlipsPerTrial, numTrials):\n",
    "    fracHeads = []\n",
    "    for i in range(numTrials):\n",
    "        fracHeads.append(flip(numFlipsPerTrial))\n",
    "    mean = sum(fracHeads)/len(fracHeads)\n",
    "    sd = stdD(fracHeads)\n",
    "    return (fracHeads, mean, sd)"
   ]
  },
  {
   "cell_type": "code",
   "execution_count": 65,
   "id": "902ca213",
   "metadata": {},
   "outputs": [],
   "source": [
    "def labelPlot(numFlips, numTrials, mean, sd):\n",
    "    py.title(str(numTrials) + 'trials of ' + str(numFlips) + 'flips each')\n",
    "    py.xlabel('Fraction of heads')\n",
    "    py.ylabel('Number of trials')\n"
   ]
  },
  {
   "cell_type": "code",
   "execution_count": 74,
   "id": "0c2aeade",
   "metadata": {},
   "outputs": [],
   "source": [
    "def makePlots(numFlips1, numFlips2, numTrials):\n",
    "    val1, mean1, sd1 = flipSim(numFlips1, numTrials)\n",
    "    py.hist(val1, bins = 10)  # Histogram.\n",
    "    xmin, xmax = py.xlim()\n",
    "    labelPlot(numFlips1, numTrials, mean1, sd1)\n",
    "    py.figure()\n",
    "    val2, mean2, sd2 = flipSim(numFlips2, numTrials)\n",
    "    py.hist(val2, bins = 20)\n",
    "    py.xlim(xmin, xmax)\n",
    "    labelPlot(numFlips2, numTrials, mean2, sd2)"
   ]
  },
  {
   "cell_type": "code",
   "execution_count": 75,
   "id": "38969e4d",
   "metadata": {},
   "outputs": [
    {
     "data": {
      "image/png": "[encoded data removed]",
      "text/plain": [
       "<Figure size 432x288 with 1 Axes>"
      ]
     },
     "metadata": {
      "needs_background": "light"
     },
     "output_type": "display_data"
    },
    {
     "data": {
      "image/png": "[encoded data removed]",
      "text/plain": [
       "<Figure size 432x288 with 1 Axes>"
      ]
     },
     "metadata": {
      "needs_background": "light"
     },
     "output_type": "display_data"
    }
   ],
   "source": [
    "makePlots(50, 100, 1000) # error in visuals, please investigate."
   ]
  },
  {
   "cell_type": "code",
   "execution_count": null,
   "id": "0328dce0",
   "metadata": {},
   "outputs": [],
   "source": []
  },
  {
   "cell_type": "code",
   "execution_count": null,
   "id": "ec4b7eaa",
   "metadata": {},
   "outputs": [],
   "source": []
  }
 ],
 "metadata": {
  "kernelspec": {
   "display_name": "Python 3 (ipykernel)",
   "language": "python",
   "name": "python3"
  },
  "language_info": {
   "codemirror_mode": {
    "name": "ipython",
    "version": 3
   },
   "file_extension": ".py",
   "mimetype": "text/x-python",
   "name": "python",
   "nbconvert_exporter": "python",
   "pygments_lexer": "ipython3",
   "version": "3.9.12"
  }
 },
 "nbformat": 4,
 "nbformat_minor": 5
}
