{
 "cells": [
  {
   "cell_type": "code",
   "execution_count": 1,
   "id": "3bb7d62d",
   "metadata": {},
   "outputs": [],
   "source": [
    "# Lecture 57, notes by Akhona Njeje.\n",
    "# Date 10 Jan 2023.\n",
    "# Mathematical modelling with Probalility Theory.\n",
    "# Application in Poker & Game Theory."
   ]
  },
  {
   "cell_type": "code",
   "execution_count": 6,
   "id": "48b333db",
   "metadata": {},
   "outputs": [],
   "source": [
    "# Game 1 : Rolling a dice.\n",
    "\n",
    "import random\n",
    "\n",
    "def rollDie():\n",
    "    return random.choice([1,2,3,4,5,6])"
   ]
  },
  {
   "cell_type": "code",
   "execution_count": 7,
   "id": "2ed778bb",
   "metadata": {},
   "outputs": [
    {
     "name": "stdout",
     "output_type": "stream",
     "text": [
      "626\n"
     ]
    }
   ],
   "source": [
    "def rollN(n):\n",
    "    result = ''\n",
    "    for i in range(n):\n",
    "        result = result + str(rollDie())\n",
    "    print(result)\n",
    "        \n",
    "rollN(3)    # rolling the dice, in this case we rolled the dice only 3 times."
   ]
  },
  {
   "cell_type": "code",
   "execution_count": 20,
   "id": "98004615",
   "metadata": {},
   "outputs": [],
   "source": [
    "# Game 2 Coin flip.\n",
    "\n",
    "def flip(numFlips):\n",
    "    heads = 0\n",
    "    for i in range(numFlips):\n",
    "        if random.choice(('H', 'T')) == 'H': # pROBALISTIC MODELLING.\n",
    "            heads += 1\n",
    "    return heads/numFlips"
   ]
  },
  {
   "cell_type": "code",
   "execution_count": 32,
   "id": "d7e7ab96",
   "metadata": {},
   "outputs": [
    {
     "name": "stdout",
     "output_type": "stream",
     "text": [
      "EXPECTED MEAN E(X) =  0.2 .\n"
     ]
    }
   ],
   "source": [
    "def flipSim(numFlipsPerTrial, numTrials):\n",
    "    fracHeads = []\n",
    "    for i in range(numTrials):\n",
    "        fracHeads.append(flip(numFlipsPerTrial))\n",
    "    mean = sum(fracHeads)/len(fracHeads)\n",
    "    return mean\n",
    "\n",
    "print('EXPECTED MEAN E(X) = ', flipSim(10,1), '.') # Here we are fliping the coin 10\n",
    "                               # times per trial."
   ]
  },
  {
   "cell_type": "code",
   "execution_count": 30,
   "id": "90843325",
   "metadata": {},
   "outputs": [
    {
     "name": "stdout",
     "output_type": "stream",
     "text": [
      "EXPECTED MEAN E(X) =  0.5159999999999999 .\n"
     ]
    }
   ],
   "source": [
    "print('EXPECTED MEAN E(X) = ', flipSim(10,100), '.')\n",
    "\n",
    "# Fliping the coin 10 times & we have 100 trials per 10 flips."
   ]
  },
  {
   "cell_type": "code",
   "execution_count": 36,
   "id": "31b5c978",
   "metadata": {},
   "outputs": [],
   "source": [
    "# Notes for Game 2 Regress to mean.\n",
    "\n",
    "import pylab\n",
    "\n",
    "def regressToMean(numFlips, numTrials):\n",
    "    fracHeads = []\n",
    "    for t in range(numTrials):\n",
    "        fracHeads.append(flip(numFlips))\n",
    "    extremes, nextTrials = [], []\n",
    "    for i in range(len(fracHeads) - 1):\n",
    "        if fracHeads[i] < 0.33 or fracHeads[i] > 0.66:\n",
    "            extremes.append(fracHeads[i])\n",
    "            nextTrials.append(fracHeads[i + 1])\n",
    "            \n",
    "    pylab.plot(range(len(extremes)), extremes, 'ko',\n",
    "              label = 'Extreme')\n",
    "    pylab.plot(range(len(nextTrials)), nextTrials, 'k^',\n",
    "              label = 'Next Trials')\n",
    "    pylab.axhline(0.5)\n",
    "    pylab.ylim(0, 1)\n",
    "    pylab.xlim(-1, len(extremes) + 1)\n",
    "    pylab.ylabel('Extreme Example and Next Trials')\n",
    "    pylab.title('Regression to the mean')\n",
    "    pylab.legend(loc = 'best')"
   ]
  },
  {
   "cell_type": "code",
   "execution_count": 41,
   "id": "5a044b12",
   "metadata": {},
   "outputs": [
    {
     "name": "stdout",
     "output_type": "stream",
     "text": [
      "Probabilistic modell analysis:\n"
     ]
    },
    {
     "data": {
      "image/png": "[encoded data removed]",
      "text/plain": [
       "<Figure size 432x288 with 1 Axes>"
      ]
     },
     "metadata": {
      "needs_background": "light"
     },
     "output_type": "display_data"
    }
   ],
   "source": [
    "print('Probabilistic modell analysis:')\n",
    "regressToMean(15, 40)\n",
    "\n",
    "# nUMBER OF FLIPS IS 15 & NUMBER OF TRIALS IS 40."
   ]
  },
  {
   "cell_type": "code",
   "execution_count": null,
   "id": "365a2449",
   "metadata": {},
   "outputs": [],
   "source": []
  },
  {
   "cell_type": "code",
   "execution_count": null,
   "id": "b2d3475c",
   "metadata": {},
   "outputs": [],
   "source": []
  },
  {
   "cell_type": "code",
   "execution_count": null,
   "id": "75c0437d",
   "metadata": {},
   "outputs": [],
   "source": []
  },
  {
   "cell_type": "code",
   "execution_count": null,
   "id": "5acd8335",
   "metadata": {},
   "outputs": [],
   "source": []
  },
  {
   "cell_type": "code",
   "execution_count": null,
   "id": "26d5dd7b",
   "metadata": {},
   "outputs": [],
   "source": []
  },
  {
   "cell_type": "code",
   "execution_count": null,
   "id": "c709c90f",
   "metadata": {},
   "outputs": [],
   "source": []
  },
  {
   "cell_type": "code",
   "execution_count": null,
   "id": "2af3c9b5",
   "metadata": {},
   "outputs": [],
   "source": []
  },
  {
   "cell_type": "code",
   "execution_count": null,
   "id": "703a3daf",
   "metadata": {},
   "outputs": [],
   "source": []
  }
 ],
 "metadata": {
  "kernelspec": {
   "display_name": "Python 3 (ipykernel)",
   "language": "python",
   "name": "python3"
  },
  "language_info": {
   "codemirror_mode": {
    "name": "ipython",
    "version": 3
   },
   "file_extension": ".py",
   "mimetype": "text/x-python",
   "name": "python",
   "nbconvert_exporter": "python",
   "pygments_lexer": "ipython3",
   "version": "3.9.12"
  }
 },
 "nbformat": 4,
 "nbformat_minor": 5
}
